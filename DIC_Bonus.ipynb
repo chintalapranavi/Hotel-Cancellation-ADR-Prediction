{
 "cells": [
  {
   "cell_type": "code",
   "execution_count": 13,
   "id": "039cd35b-05b1-4262-9bb4-21107708e243",
   "metadata": {},
   "outputs": [
    {
     "data": {
      "text/plain": [
       "(0.687,\n",
       " '              precision    recall  f1-score   support\\n\\n           0       0.71      0.84      0.77       618\\n           1       0.63      0.44      0.52       382\\n\\n    accuracy                           0.69      1000\\n   macro avg       0.67      0.64      0.64      1000\\nweighted avg       0.68      0.69      0.67      1000\\n')"
      ]
     },
     "execution_count": 13,
     "metadata": {},
     "output_type": "execute_result"
    }
   ],
   "source": [
    "# Re-importing necessary libraries as the session state was reset\n",
    "import pandas as pd\n",
    "from sklearn.model_selection import train_test_split\n",
    "from sklearn.linear_model import LogisticRegression\n",
    "from sklearn.metrics import accuracy_score, classification_report\n",
    "\n",
    "# Reloading the dataset\n",
    "file_path = 'hotel_dataset.csv'\n",
    "data = pd.read_csv(file_path)\n",
    "\n",
    "# Handling missing values\n",
    "data['children'].fillna(data['children'].median(), inplace=True)\n",
    "data['country'].fillna(data['country'].mode()[0], inplace=True)\n",
    "data['agent'].fillna(0, inplace=True)\n",
    "data['company'].fillna(0, inplace=True)\n",
    "\n",
    "# Encoding categorical variables using one-hot encoding\n",
    "categorical_columns = [\n",
    "    'hotel', 'arrival_date_month', 'meal', 'country',\n",
    "    'market_segment', 'distribution_channel', 'reserved_room_type',\n",
    "    'assigned_room_type', 'deposit_type', 'customer_type'\n",
    "]\n",
    "\n",
    "data_encoded = pd.get_dummies(data, columns=categorical_columns, drop_first=True)\n",
    "\n",
    "# Drop unnecessary columns\n",
    "columns_to_drop = ['reservation_status', 'reservation_status_date']\n",
    "data_encoded.drop(columns=columns_to_drop, inplace=True)\n",
    "\n",
    "# Subset of relevant features for modeling\n",
    "selected_features = [\n",
    "    'lead_time', 'adults', 'children', 'stays_in_week_nights',\n",
    "    'stays_in_weekend_nights', 'total_of_special_requests', 'adr'\n",
    "]\n",
    "\n",
    "# Downsample the dataset for manageable size\n",
    "sampled_data = data_encoded.sample(n=5000, random_state=42)  # Select 5000 rows\n",
    "\n",
    "# Redefine features and target for the sampled dataset\n",
    "X_sampled = sampled_data[selected_features]\n",
    "y_sampled = sampled_data['is_canceled']\n",
    "\n",
    "# Splitting the downsampled data\n",
    "X_train_sampled, X_test_sampled, y_train_sampled, y_test_sampled = train_test_split(\n",
    "    X_sampled, y_sampled, test_size=0.2, random_state=42\n",
    ")\n",
    "\n",
    "# Train Logistic Regression on the smaller dataset\n",
    "logistic_model_sampled = LogisticRegression(max_iter=1000, random_state=42)\n",
    "logistic_model_sampled.fit(X_train_sampled, y_train_sampled)\n",
    "\n",
    "# Evaluate the model\n",
    "y_pred_sampled = logistic_model_sampled.predict(X_test_sampled)\n",
    "sampled_accuracy = accuracy_score(y_test_sampled, y_pred_sampled)\n",
    "sampled_classification_report = classification_report(y_test_sampled, y_pred_sampled)\n",
    "\n",
    "sampled_accuracy, sampled_classification_report\n"
   ]
  },
  {
   "cell_type": "code",
   "execution_count": 14,
   "id": "3e1cb9c3-90c6-4be4-b2ea-a7802809c5ed",
   "metadata": {},
   "outputs": [
    {
     "data": {
      "text/plain": [
       "['dic_bonus.pkl']"
      ]
     },
     "execution_count": 14,
     "metadata": {},
     "output_type": "execute_result"
    }
   ],
   "source": [
    "import joblib\n",
    "joblib.dump(logistic_model_sampled, \"dic_bonus.pkl\")"
   ]
  },
  {
   "cell_type": "code",
   "execution_count": null,
   "id": "3d9643a0-ae38-41e7-9998-0c8b0892ef82",
   "metadata": {},
   "outputs": [],
   "source": []
  }
 ],
 "metadata": {
  "kernelspec": {
   "display_name": "Python 3 (ipykernel)",
   "language": "python",
   "name": "python3"
  },
  "language_info": {
   "codemirror_mode": {
    "name": "ipython",
    "version": 3
   },
   "file_extension": ".py",
   "mimetype": "text/x-python",
   "name": "python",
   "nbconvert_exporter": "python",
   "pygments_lexer": "ipython3",
   "version": "3.9.0"
  }
 },
 "nbformat": 4,
 "nbformat_minor": 5
}
